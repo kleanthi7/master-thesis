{
 "cells": [
  {
   "cell_type": "code",
   "execution_count": 1,
   "metadata": {},
   "outputs": [
    {
     "name": "stdout",
     "output_type": "stream",
     "text": [
      "<http.client.HTTPResponse object at 0x7f472a46cad0>\n"
     ]
    }
   ],
   "source": [
    "#find the relevant descriptions of the pfam domains\n",
    "import urllib.request\n",
    "import shutil\n",
    "\n",
    "url1 = 'http://current.geneontology.org/ontology/external2go/pfam2go'\n",
    "page = urllib.request.urlopen(url1)\n",
    "print(page)\n",
    "f = open(\"./test2.html\", \"wb\")\n",
    "shutil.copyfileobj(page, f)\n",
    "f.close()"
   ]
  },
  {
   "cell_type": "code",
   "execution_count": 2,
   "metadata": {},
   "outputs": [
    {
     "name": "stderr",
     "output_type": "stream",
     "text": [
      "/home/user/anaconda3/lib/python3.7/site-packages/ipykernel_launcher.py:2: ParserWarning: Falling back to the 'python' engine because the 'c' engine does not support regex separators (separators > 1 char and different from '\\s+' are interpreted as regex); you can avoid this warning by specifying engine='python'.\n",
      "  \n"
     ]
    }
   ],
   "source": [
    "import pandas as pd\n",
    "pfam_func=pd.read_csv(\"pfam_go.txt\",sep='delimiter',header=None)\n",
    "pfam_func[['domain','go']] = pfam_func[0].str.split(\">\", 1, expand=True)\n",
    "pfam_func=pfam_func.drop(columns=[0])\n"
   ]
  },
  {
   "cell_type": "code",
   "execution_count": 3,
   "metadata": {},
   "outputs": [
    {
     "data": {
      "text/html": [
       "<div>\n",
       "<style scoped>\n",
       "    .dataframe tbody tr th:only-of-type {\n",
       "        vertical-align: middle;\n",
       "    }\n",
       "\n",
       "    .dataframe tbody tr th {\n",
       "        vertical-align: top;\n",
       "    }\n",
       "\n",
       "    .dataframe thead th {\n",
       "        text-align: right;\n",
       "    }\n",
       "</style>\n",
       "<table border=\"1\" class=\"dataframe\">\n",
       "  <thead>\n",
       "    <tr style=\"text-align: right;\">\n",
       "      <th></th>\n",
       "      <th>name</th>\n",
       "      <th>go name</th>\n",
       "    </tr>\n",
       "  </thead>\n",
       "  <tbody>\n",
       "    <tr>\n",
       "      <th>0</th>\n",
       "      <td>7tm_1</td>\n",
       "      <td>GO:G protein-coupled receptor activity</td>\n",
       "    </tr>\n",
       "    <tr>\n",
       "      <th>1</th>\n",
       "      <td>7tm_1</td>\n",
       "      <td>GO:G protein-coupled receptor signaling pathway</td>\n",
       "    </tr>\n",
       "    <tr>\n",
       "      <th>2</th>\n",
       "      <td>7tm_1</td>\n",
       "      <td>GO:integral component of membrane</td>\n",
       "    </tr>\n",
       "    <tr>\n",
       "      <th>3</th>\n",
       "      <td>7tm_2</td>\n",
       "      <td>GO:G protein-coupled receptor activity</td>\n",
       "    </tr>\n",
       "    <tr>\n",
       "      <th>4</th>\n",
       "      <td>7tm_2</td>\n",
       "      <td>GO:G protein-coupled receptor signaling pathway</td>\n",
       "    </tr>\n",
       "    <tr>\n",
       "      <th>...</th>\n",
       "      <td>...</td>\n",
       "      <td>...</td>\n",
       "    </tr>\n",
       "    <tr>\n",
       "      <th>10257</th>\n",
       "      <td>Mtf2</td>\n",
       "      <td>GO:mitochondrion</td>\n",
       "    </tr>\n",
       "    <tr>\n",
       "      <th>10258</th>\n",
       "      <td>MELT</td>\n",
       "      <td>GO:cell division</td>\n",
       "    </tr>\n",
       "    <tr>\n",
       "      <th>10259</th>\n",
       "      <td>Spo16</td>\n",
       "      <td>GO:DNA secondary structure binding</td>\n",
       "    </tr>\n",
       "    <tr>\n",
       "      <th>10260</th>\n",
       "      <td>Spo16</td>\n",
       "      <td>GO:synaptonemal complex assembly</td>\n",
       "    </tr>\n",
       "    <tr>\n",
       "      <th>10261</th>\n",
       "      <td>Spo16</td>\n",
       "      <td>GO:regulation of reciprocal meiotic recombina...</td>\n",
       "    </tr>\n",
       "  </tbody>\n",
       "</table>\n",
       "<p>10262 rows × 2 columns</p>\n",
       "</div>"
      ],
      "text/plain": [
       "         name                                            go name\n",
       "0      7tm_1             GO:G protein-coupled receptor activity \n",
       "1      7tm_1    GO:G protein-coupled receptor signaling pathway \n",
       "2      7tm_1                  GO:integral component of membrane \n",
       "3      7tm_2             GO:G protein-coupled receptor activity \n",
       "4      7tm_2    GO:G protein-coupled receptor signaling pathway \n",
       "...       ...                                                ...\n",
       "10257   Mtf2                                   GO:mitochondrion \n",
       "10258   MELT                                   GO:cell division \n",
       "10259  Spo16                 GO:DNA secondary structure binding \n",
       "10260  Spo16                   GO:synaptonemal complex assembly \n",
       "10261  Spo16    GO:regulation of reciprocal meiotic recombina...\n",
       "\n",
       "[10262 rows x 2 columns]"
      ]
     },
     "execution_count": 3,
     "metadata": {},
     "output_type": "execute_result"
    }
   ],
   "source": [
    "#split further and keep the names\n",
    "pfam_func[['code','name']]=pfam_func['domain'].str.split(\" \",1,expand=True)\n",
    "pfam_func[['go name','go code']]=pfam_func['go'].str.split(\";\",1,expand=True)\n",
    "\n",
    "pfam_func=pfam_func.drop(columns=['domain','go','code','go code'])\n",
    "pfam_func"
   ]
  },
  {
   "cell_type": "code",
   "execution_count": 33,
   "metadata": {},
   "outputs": [],
   "source": [
    "pfam_func=pfam_func.groupby(['name'])['go name'].apply(lambda x: ','.join(x)).reset_index()\n",
    "#remove the spaces from 'name' column\n",
    "pfam_func['name']=pfam_func['name'].str.strip()\n"
   ]
  },
  {
   "cell_type": "code",
   "execution_count": 57,
   "metadata": {},
   "outputs": [],
   "source": [
    "pd.set_option('display.max_rows', 365)"
   ]
  },
  {
   "cell_type": "code",
   "execution_count": null,
   "metadata": {},
   "outputs": [],
   "source": [
    "#the domains plus function from log2 analysis\n",
    "import numpy as np\n",
    "#apo poy 3efitrose to dom_log2\n",
    "dom_go=dom_log2.join(pfam_func.set_index('name'), on='name')\n",
    "#replace the NaN values with None\n",
    "dom_go = dom_go.replace({np.nan: 'None'})\n",
    "dom_go"
   ]
  },
  {
   "cell_type": "code",
   "execution_count": 81,
   "metadata": {},
   "outputs": [],
   "source": [
    "#make a plot showing the go functions\n",
    "dom_go=dom_go.set_index('name')['go name'].str.split('\\s,\\s*', expand=True).stack().reset_index(name='go name').drop('level_1',1)"
   ]
  },
  {
   "cell_type": "code",
   "execution_count": 82,
   "metadata": {},
   "outputs": [],
   "source": [
    "#great! now make the plot for each go ontology and count the domains that are in it\n",
    "dom_go['go name']=dom_go['go name'].str.strip()"
   ]
  },
  {
   "cell_type": "code",
   "execution_count": 127,
   "metadata": {},
   "outputs": [
    {
     "data": {
      "text/plain": [
       "None                                                                          245\n",
       "GO:DNA binding                                                                 23\n",
       "GO:ATP binding                                                                 21\n",
       "GO:DNA replication                                                             13\n",
       "GO:DNA repair                                                                   6\n",
       "GO:DNA recombination                                                            6\n",
       "GO:oxidation-reduction process                                                  5\n",
       "GO:regulation of transcription, DNA-templated                                   4\n",
       "GO:viral capsid                                                                 4\n",
       "GO:protein binding                                                              4\n",
       "GO:nucleic acid binding                                                         4\n",
       "GO:ATPase activity                                                              4\n",
       "GO:catalytic activity                                                           3\n",
       "GO:recombinase activity                                                         3\n",
       "GO:hydrolase activity                                                           3\n",
       "GO:peptidoglycan catabolic process                                              3\n",
       "GO:DNA helicase activity                                                        3\n",
       "GO:single-stranded DNA binding                                                  3\n",
       "GO:DNA integration                                                              3\n",
       "GO:viral release from host cell                                                 3\n",
       "GO:DNA topoisomerase type II (double strand cut, ATP-hydrolyzing) activity      2\n",
       "GO:N-acetylmuramoyl-L-alanine amidase activity                                  2\n",
       "GO:DNA topological change                                                       2\n",
       "GO:DNA primase activity                                                         2\n",
       "GO:viral capsid assembly                                                        2\n",
       "GO:3'-5' exonuclease activity                                                   2\n",
       "GO:metal ion binding                                                            2\n",
       "GO:viral transcription                                                          2\n",
       "GO:cell wall macromolecule catabolic process                                    2\n",
       "GO:magnesium ion binding                                                        2\n",
       "Name: go name, dtype: int64"
      ]
     },
     "execution_count": 127,
     "metadata": {},
     "output_type": "execute_result"
    }
   ],
   "source": [
    "dom_go['go name'].value_counts()[:30]"
   ]
  },
  {
   "cell_type": "code",
   "execution_count": 120,
   "metadata": {},
   "outputs": [
    {
     "data": {
      "image/png": "[encoded data removed]",
      "text/plain": [
       "<Figure size 720x360 with 1 Axes>"
      ]
     },
     "metadata": {
      "needs_background": "light"
     },
     "output_type": "display_data"
    }
   ],
   "source": [
    "import matplotlib\n",
    "import matplotlib.pyplot as plt\n",
    "plt.gca().invert_yaxis()\n",
    "matplotlib.rcParams.update({'font.size': 9})\n",
    "plt.title(\"First 30 GO functions of domains in enriched families using log2 statistic(112 total)\")\n",
    "plt.xlabel(\"#Domains with significant log2 statistic\")\n",
    "\n",
    "fig=dom_go['go name'].value_counts()[:30].plot(kind='barh',figsize=(10,5))\n",
    "plt.savefig('pfam_log2.jpg',bbox_inches='tight')"
   ]
  },
  {
   "cell_type": "code",
   "execution_count": 104,
   "metadata": {},
   "outputs": [
    {
     "data": {
      "text/plain": [
       "112"
      ]
     },
     "execution_count": 104,
     "metadata": {},
     "output_type": "execute_result"
    }
   ],
   "source": [
    "len(dom_go['go name'].value_counts().to_list())"
   ]
  },
  {
   "cell_type": "code",
   "execution_count": null,
   "metadata": {},
   "outputs": [],
   "source": []
  }
 ],
 "metadata": {
  "kernelspec": {
   "display_name": "Python 3",
   "language": "python",
   "name": "python3"
  },
  "language_info": {
   "codemirror_mode": {
    "name": "ipython",
    "version": 3
   },
   "file_extension": ".py",
   "mimetype": "text/x-python",
   "name": "python",
   "nbconvert_exporter": "python",
   "pygments_lexer": "ipython3",
   "version": "3.7.7"
  }
 },
 "nbformat": 4,
 "nbformat_minor": 4
}
