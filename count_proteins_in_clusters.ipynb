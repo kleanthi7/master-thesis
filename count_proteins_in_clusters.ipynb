{
 "cells": [
  {
   "cell_type": "code",
   "execution_count": 40,
   "metadata": {},
   "outputs": [],
   "source": [
    "import pandas as pd\n",
    "from matplotlib import pyplot as plt\n",
    "import collections"
   ]
  },
  {
   "cell_type": "code",
   "execution_count": 41,
   "metadata": {},
   "outputs": [],
   "source": [
    "viral_families_20=pd.read_csv(\"VIRAL_FAMILIES_20.txt\",sep=\"\\t\",header=None)\n"
   ]
  },
  {
   "cell_type": "code",
   "execution_count": 42,
   "metadata": {},
   "outputs": [],
   "source": [
    "viral_families_20=viral_families_20.rename(columns={0: 'clusters',1: 'protein_id',2:'lineage',3:'sequence'})"
   ]
  },
  {
   "cell_type": "code",
   "execution_count": 43,
   "metadata": {},
   "outputs": [
    {
     "data": {
      "text/html": [
       "<div>\n",
       "<style scoped>\n",
       "    .dataframe tbody tr th:only-of-type {\n",
       "        vertical-align: middle;\n",
       "    }\n",
       "\n",
       "    .dataframe tbody tr th {\n",
       "        vertical-align: top;\n",
       "    }\n",
       "\n",
       "    .dataframe thead th {\n",
       "        text-align: right;\n",
       "    }\n",
       "</style>\n",
       "<table border=\"1\" class=\"dataframe\">\n",
       "  <thead>\n",
       "    <tr style=\"text-align: right;\">\n",
       "      <th></th>\n",
       "      <th>clusters</th>\n",
       "      <th>protein_id</th>\n",
       "      <th>lineage</th>\n",
       "      <th>sequence</th>\n",
       "    </tr>\n",
       "  </thead>\n",
       "  <tbody>\n",
       "    <tr>\n",
       "      <th>0</th>\n",
       "      <td>1</td>\n",
       "      <td>YP_009237910.1</td>\n",
       "      <td>Viruses;Monodnaviria;Shotokuvirae;Cressdnaviri...</td>\n",
       "      <td>MPPKRNGIYSKNYFITYPKCSLTKEEALSQLLNIQTPTSKKYIRIC...</td>\n",
       "    </tr>\n",
       "    <tr>\n",
       "      <th>1</th>\n",
       "      <td>1</td>\n",
       "      <td>YP_009316020.1</td>\n",
       "      <td>Viruses;Monodnaviria;Shotokuvirae;Cressdnaviri...</td>\n",
       "      <td>MPPKRNGFYSKNYFITYPKCSLTKEEALSQLLNIQTPTSKKYIRIC...</td>\n",
       "    </tr>\n",
       "    <tr>\n",
       "      <th>2</th>\n",
       "      <td>1</td>\n",
       "      <td>YP_009508460.1</td>\n",
       "      <td>Viruses;Monodnaviria;Shotokuvirae;Cressdnaviri...</td>\n",
       "      <td>MPPKRNGIYSKNYFITYPKCSLTKEEALSQLLNLQTPTSKKYIKIC...</td>\n",
       "    </tr>\n",
       "    <tr>\n",
       "      <th>3</th>\n",
       "      <td>1</td>\n",
       "      <td>YP_001086462.1</td>\n",
       "      <td>Viruses;Monodnaviria;Shotokuvirae;Cressdnaviri...</td>\n",
       "      <td>MPPRRNGIYSKNYFITYPKCSLTKEETLSQLLNLQTPTSKKIYIKI...</td>\n",
       "    </tr>\n",
       "    <tr>\n",
       "      <th>4</th>\n",
       "      <td>1</td>\n",
       "      <td>NP_443744.1</td>\n",
       "      <td>Viruses;Monodnaviria;Shotokuvirae;Cressdnaviri...</td>\n",
       "      <td>MPPKRNGIYSKNYFITYPKCSLTKEEALSQLLNIQTPTSKKYIRIC...</td>\n",
       "    </tr>\n",
       "    <tr>\n",
       "      <th>...</th>\n",
       "      <td>...</td>\n",
       "      <td>...</td>\n",
       "      <td>...</td>\n",
       "      <td>...</td>\n",
       "    </tr>\n",
       "    <tr>\n",
       "      <th>37437</th>\n",
       "      <td>1187</td>\n",
       "      <td>YP_006561172.1</td>\n",
       "      <td>Viruses;Duplodnaviria;Heunggongvirae;Urovirico...</td>\n",
       "      <td>MAKVKYGNWDLVKELEEFEKETIRWAKKGIAKTTTIIHNSIVSNMP...</td>\n",
       "    </tr>\n",
       "    <tr>\n",
       "      <th>37438</th>\n",
       "      <td>1187</td>\n",
       "      <td>YP_950610.1</td>\n",
       "      <td>Viruses;Duplodnaviria;Heunggongvirae;Urovirico...</td>\n",
       "      <td>MAKVKYGNWELVKELEDFEKETIRWAKKGIAKTTTIIHNSIVSNMP...</td>\n",
       "    </tr>\n",
       "    <tr>\n",
       "      <th>37439</th>\n",
       "      <td>1187</td>\n",
       "      <td>YP_950673.1</td>\n",
       "      <td>Viruses;Duplodnaviria;Heunggongvirae;Urovirico...</td>\n",
       "      <td>MAKVKYGNWDLVKELEEFEKETIRWAKKGIAKTTTIIHNSIVSNMP...</td>\n",
       "    </tr>\n",
       "    <tr>\n",
       "      <th>37440</th>\n",
       "      <td>1187</td>\n",
       "      <td>YP_006560952.1</td>\n",
       "      <td>Viruses;Duplodnaviria;Heunggongvirae;Urovirico...</td>\n",
       "      <td>MAKVKYGNWDLVKELEEFEKETIRWAKKGIAKTTTIIHNSIVSNMP...</td>\n",
       "    </tr>\n",
       "    <tr>\n",
       "      <th>37441</th>\n",
       "      <td>1187</td>\n",
       "      <td>YP_009302029.1</td>\n",
       "      <td>Viruses;Duplodnaviria;Heunggongvirae;Urovirico...</td>\n",
       "      <td>MAKVKYGNWELVKELEEFEKETIRWAKKGIAKTTTIIHNSIVSNMP...</td>\n",
       "    </tr>\n",
       "  </tbody>\n",
       "</table>\n",
       "<p>37442 rows × 4 columns</p>\n",
       "</div>"
      ],
      "text/plain": [
       "       clusters      protein_id  \\\n",
       "0             1  YP_009237910.1   \n",
       "1             1  YP_009316020.1   \n",
       "2             1  YP_009508460.1   \n",
       "3             1  YP_001086462.1   \n",
       "4             1     NP_443744.1   \n",
       "...         ...             ...   \n",
       "37437      1187  YP_006561172.1   \n",
       "37438      1187     YP_950610.1   \n",
       "37439      1187     YP_950673.1   \n",
       "37440      1187  YP_006560952.1   \n",
       "37441      1187  YP_009302029.1   \n",
       "\n",
       "                                                 lineage  \\\n",
       "0      Viruses;Monodnaviria;Shotokuvirae;Cressdnaviri...   \n",
       "1      Viruses;Monodnaviria;Shotokuvirae;Cressdnaviri...   \n",
       "2      Viruses;Monodnaviria;Shotokuvirae;Cressdnaviri...   \n",
       "3      Viruses;Monodnaviria;Shotokuvirae;Cressdnaviri...   \n",
       "4      Viruses;Monodnaviria;Shotokuvirae;Cressdnaviri...   \n",
       "...                                                  ...   \n",
       "37437  Viruses;Duplodnaviria;Heunggongvirae;Urovirico...   \n",
       "37438  Viruses;Duplodnaviria;Heunggongvirae;Urovirico...   \n",
       "37439  Viruses;Duplodnaviria;Heunggongvirae;Urovirico...   \n",
       "37440  Viruses;Duplodnaviria;Heunggongvirae;Urovirico...   \n",
       "37441  Viruses;Duplodnaviria;Heunggongvirae;Urovirico...   \n",
       "\n",
       "                                                sequence  \n",
       "0      MPPKRNGIYSKNYFITYPKCSLTKEEALSQLLNIQTPTSKKYIRIC...  \n",
       "1      MPPKRNGFYSKNYFITYPKCSLTKEEALSQLLNIQTPTSKKYIRIC...  \n",
       "2      MPPKRNGIYSKNYFITYPKCSLTKEEALSQLLNLQTPTSKKYIKIC...  \n",
       "3      MPPRRNGIYSKNYFITYPKCSLTKEETLSQLLNLQTPTSKKIYIKI...  \n",
       "4      MPPKRNGIYSKNYFITYPKCSLTKEEALSQLLNIQTPTSKKYIRIC...  \n",
       "...                                                  ...  \n",
       "37437  MAKVKYGNWDLVKELEEFEKETIRWAKKGIAKTTTIIHNSIVSNMP...  \n",
       "37438  MAKVKYGNWELVKELEDFEKETIRWAKKGIAKTTTIIHNSIVSNMP...  \n",
       "37439  MAKVKYGNWDLVKELEEFEKETIRWAKKGIAKTTTIIHNSIVSNMP...  \n",
       "37440  MAKVKYGNWDLVKELEEFEKETIRWAKKGIAKTTTIIHNSIVSNMP...  \n",
       "37441  MAKVKYGNWELVKELEEFEKETIRWAKKGIAKTTTIIHNSIVSNMP...  \n",
       "\n",
       "[37442 rows x 4 columns]"
      ]
     },
     "execution_count": 43,
     "metadata": {},
     "output_type": "execute_result"
    }
   ],
   "source": [
    "viral_families_20"
   ]
  },
  {
   "cell_type": "code",
   "execution_count": 44,
   "metadata": {},
   "outputs": [],
   "source": [
    "clusters=viral_families_20['clusters'].tolist()"
   ]
  },
  {
   "cell_type": "code",
   "execution_count": 45,
   "metadata": {},
   "outputs": [],
   "source": [
    "counter=collections.Counter(clusters)"
   ]
  },
  {
   "cell_type": "code",
   "execution_count": 46,
   "metadata": {},
   "outputs": [
    {
     "name": "stdout",
     "output_type": "stream",
     "text": [
      "37442\n"
     ]
    }
   ],
   "source": [
    "#count the proteins that exist in all clusters with >20 members\n",
    "number=0\n",
    "for i in counter.values():\n",
    "    number=number+i\n",
    "print(number)"
   ]
  },
  {
   "cell_type": "code",
   "execution_count": 47,
   "metadata": {},
   "outputs": [
    {
     "name": "stdout",
     "output_type": "stream",
     "text": [
      "1188\n"
     ]
    }
   ],
   "source": [
    "#find the number of clusters with >20 members\n",
    "i=0\n",
    "for i in counter.keys():\n",
    "    i+=1\n",
    "print(i)"
   ]
  },
  {
   "cell_type": "code",
   "execution_count": 48,
   "metadata": {},
   "outputs": [
    {
     "data": {
      "text/plain": [
       "dict_values([296, 193, 170, 167, 125, 120, 120, 107, 99, 97, 96, 95, 89, 87, 87, 84, 82, 82, 79, 78, 77, 75, 74, 73, 72, 71, 70, 70, 70, 70, 70, 70, 70, 70, 70, 70, 70, 70, 70, 70, 70, 69, 69, 69, 69, 69, 69, 69, 69, 68, 68, 67, 67, 67, 67, 66, 66, 65, 65, 65, 65, 65, 65, 65, 64, 62, 62, 61, 61, 61, 60, 60, 60, 59, 59, 59, 59, 58, 58, 58, 58, 58, 58, 57, 56, 56, 55, 55, 55, 55, 55, 55, 55, 55, 55, 55, 55, 54, 54, 54, 54, 53, 53, 53, 53, 53, 52, 52, 51, 51, 51, 51, 51, 51, 51, 51, 50, 50, 50, 50, 50, 50, 50, 50, 50, 49, 49, 49, 48, 48, 48, 47, 47, 47, 47, 47, 46, 46, 46, 46, 46, 46, 46, 46, 45, 45, 45, 45, 45, 45, 45, 44, 44, 44, 44, 44, 44, 44, 44, 44, 44, 44, 43, 43, 43, 43, 43, 43, 43, 43, 43, 43, 43, 43, 42, 42, 42, 42, 42, 42, 42, 42, 42, 42, 42, 41, 41, 41, 41, 41, 41, 41, 41, 41, 41, 40, 40, 40, 40, 40, 40, 40, 40, 40, 39, 39, 39, 39, 39, 38, 38, 38, 38, 38, 38, 38, 38, 38, 38, 38, 38, 38, 37, 37, 37, 37, 37, 37, 37, 37, 37, 37, 37, 37, 37, 37, 37, 36, 36, 36, 36, 36, 36, 36, 36, 36, 36, 36, 36, 36, 36, 36, 36, 36, 36, 36, 36, 36, 36, 36, 35, 35, 35, 35, 35, 35, 35, 35, 35, 35, 35, 35, 35, 35, 35, 35, 35, 35, 35, 35, 35, 35, 35, 35, 35, 34, 34, 34, 34, 34, 34, 34, 34, 34, 34, 34, 34, 34, 34, 34, 34, 34, 34, 34, 34, 34, 33, 33, 33, 33, 33, 33, 33, 33, 33, 33, 33, 33, 33, 33, 33, 33, 33, 33, 33, 33, 33, 33, 33, 33, 33, 33, 32, 32, 32, 32, 32, 32, 32, 32, 32, 32, 32, 32, 32, 32, 32, 32, 32, 32, 32, 32, 32, 32, 32, 32, 32, 32, 32, 32, 32, 32, 32, 32, 32, 32, 32, 32, 32, 32, 32, 32, 32, 32, 32, 32, 32, 32, 32, 32, 32, 32, 32, 32, 31, 31, 31, 31, 31, 31, 31, 31, 31, 31, 31, 31, 31, 31, 31, 31, 31, 31, 31, 31, 31, 31, 31, 31, 31, 31, 31, 31, 31, 31, 31, 31, 31, 31, 31, 31, 31, 31, 31, 31, 31, 31, 31, 31, 31, 31, 31, 30, 30, 30, 30, 30, 30, 30, 30, 30, 30, 30, 30, 30, 30, 30, 30, 30, 30, 30, 30, 30, 30, 30, 30, 30, 30, 30, 30, 30, 30, 30, 30, 30, 30, 30, 30, 30, 30, 29, 29, 29, 29, 29, 29, 29, 29, 29, 29, 29, 29, 29, 29, 29, 29, 29, 29, 29, 29, 29, 29, 29, 29, 29, 29, 29, 29, 29, 29, 29, 28, 28, 28, 28, 28, 28, 28, 28, 28, 28, 28, 28, 28, 28, 28, 28, 28, 28, 28, 28, 28, 28, 28, 28, 28, 28, 28, 28, 27, 27, 27, 27, 27, 27, 27, 27, 27, 27, 27, 27, 27, 27, 27, 27, 27, 27, 27, 27, 27, 27, 27, 27, 27, 27, 27, 27, 27, 26, 26, 26, 26, 26, 26, 26, 26, 26, 26, 26, 26, 26, 26, 26, 26, 26, 26, 26, 26, 26, 26, 26, 26, 26, 26, 26, 26, 26, 26, 26, 26, 26, 26, 26, 26, 26, 26, 26, 26, 26, 25, 25, 25, 25, 25, 25, 25, 25, 25, 25, 25, 25, 25, 25, 25, 25, 25, 25, 25, 25, 25, 25, 25, 25, 25, 25, 25, 25, 25, 25, 25, 25, 25, 25, 25, 25, 25, 25, 25, 25, 25, 25, 25, 25, 25, 25, 25, 25, 25, 25, 25, 25, 25, 25, 25, 25, 25, 25, 25, 25, 25, 25, 25, 25, 25, 25, 25, 25, 25, 25, 25, 25, 25, 25, 25, 24, 24, 24, 24, 24, 24, 24, 24, 24, 24, 24, 24, 24, 24, 24, 24, 24, 24, 24, 24, 24, 24, 24, 24, 24, 24, 24, 24, 24, 24, 24, 24, 24, 24, 24, 24, 24, 24, 24, 24, 24, 24, 24, 24, 24, 24, 24, 24, 24, 24, 24, 24, 24, 24, 24, 24, 24, 24, 24, 24, 24, 24, 24, 24, 24, 24, 24, 24, 24, 23, 23, 23, 23, 23, 23, 23, 23, 23, 23, 23, 23, 23, 23, 23, 23, 23, 23, 23, 23, 23, 23, 23, 23, 23, 23, 23, 23, 23, 23, 23, 23, 23, 23, 23, 23, 23, 23, 23, 23, 23, 23, 23, 23, 23, 23, 23, 23, 23, 23, 23, 23, 23, 23, 23, 23, 23, 23, 23, 23, 23, 23, 23, 23, 23, 23, 23, 23, 23, 23, 23, 22, 22, 22, 22, 22, 22, 22, 22, 22, 22, 22, 22, 22, 22, 22, 22, 22, 22, 22, 22, 22, 22, 22, 22, 22, 22, 22, 22, 22, 22, 22, 22, 22, 22, 22, 22, 22, 22, 22, 22, 22, 22, 22, 22, 22, 22, 22, 22, 22, 22, 22, 22, 22, 22, 22, 22, 22, 22, 22, 22, 22, 22, 22, 22, 22, 22, 22, 22, 22, 22, 22, 22, 22, 22, 21, 21, 21, 21, 21, 21, 21, 21, 21, 21, 21, 21, 21, 21, 21, 21, 21, 21, 21, 21, 21, 21, 21, 21, 21, 21, 21, 21, 21, 21, 21, 21, 21, 21, 21, 21, 21, 21, 21, 21, 21, 21, 21, 21, 21, 21, 21, 21, 21, 21, 21, 21, 21, 21, 21, 21, 21, 21, 21, 21, 21, 21, 21, 21, 21, 21, 21, 21, 21, 21, 21, 21, 21, 21, 21, 21, 21, 21, 21, 21, 21, 21, 21, 21, 21, 21, 21, 21, 21, 21, 21, 21, 21, 21, 21, 21, 21, 21, 21, 21, 21, 21, 21, 21, 21, 21, 21, 21, 21, 21, 21, 21, 21, 21, 21, 21, 21, 21, 21, 21, 21, 21, 21, 21, 21, 21, 21, 21, 21, 21, 21, 21, 21, 21, 21, 21, 21, 21, 21, 21, 21, 21, 21, 21, 21, 21, 21, 21, 21, 21, 21, 21, 21, 21, 21, 21, 21, 20, 20, 20, 20, 20, 20, 20, 20, 20, 20, 20, 20, 20, 20, 20, 20, 20, 20, 20, 20, 20, 20, 20, 20, 20, 20, 20, 20, 20, 20, 20, 20, 20, 20, 20, 20, 20, 20, 20, 20, 20, 20, 20, 20, 20, 20, 20, 20, 20, 20, 20, 20, 20, 20, 20, 20, 20, 20, 20, 20, 20, 20, 20, 20, 20, 20, 20, 20, 20, 20, 20, 20, 20, 20, 20, 20, 20, 20, 20, 20, 20, 20, 20, 20, 20, 20, 20, 20, 20, 20, 20, 20, 20, 20, 20, 20, 20, 20, 20, 20, 20, 20, 20, 20, 20, 20, 20, 20, 20, 20, 20, 20, 20, 20, 20, 20, 20, 20, 20, 20, 20, 20, 20, 20, 20, 20, 20, 20, 20, 20, 20, 20, 20, 20, 20, 20, 20, 20, 20, 20, 20, 20, 20])"
      ]
     },
     "execution_count": 48,
     "metadata": {},
     "output_type": "execute_result"
    }
   ],
   "source": [
    "values=counter.values()\n",
    "values"
   ]
  },
  {
   "cell_type": "code",
   "execution_count": 49,
   "metadata": {},
   "outputs": [],
   "source": [
    "new_counter=collections.Counter(values)"
   ]
  },
  {
   "cell_type": "code",
   "execution_count": 50,
   "metadata": {},
   "outputs": [
    {
     "data": {
      "text/plain": [
       "73"
      ]
     },
     "execution_count": 50,
     "metadata": {},
     "output_type": "execute_result"
    }
   ],
   "source": [
    "new_keys=new_counter.keys()\n",
    "new_values=new_counter.values()\n",
    "len(new_keys)"
   ]
  },
  {
   "cell_type": "code",
   "execution_count": 51,
   "metadata": {},
   "outputs": [
    {
     "data": {
      "text/plain": [
       "Counter({296: 1,\n",
       "         193: 1,\n",
       "         170: 1,\n",
       "         167: 1,\n",
       "         125: 1,\n",
       "         120: 2,\n",
       "         107: 1,\n",
       "         99: 1,\n",
       "         97: 1,\n",
       "         96: 1,\n",
       "         95: 1,\n",
       "         89: 1,\n",
       "         87: 2,\n",
       "         84: 1,\n",
       "         82: 2,\n",
       "         79: 1,\n",
       "         78: 1,\n",
       "         77: 1,\n",
       "         75: 1,\n",
       "         74: 1,\n",
       "         73: 1,\n",
       "         72: 1,\n",
       "         71: 1,\n",
       "         70: 15,\n",
       "         69: 8,\n",
       "         68: 2,\n",
       "         67: 4,\n",
       "         66: 2,\n",
       "         65: 7,\n",
       "         64: 1,\n",
       "         62: 2,\n",
       "         61: 3,\n",
       "         60: 3,\n",
       "         59: 4,\n",
       "         58: 6,\n",
       "         57: 1,\n",
       "         56: 2,\n",
       "         55: 11,\n",
       "         54: 4,\n",
       "         53: 5,\n",
       "         52: 2,\n",
       "         51: 8,\n",
       "         50: 9,\n",
       "         49: 3,\n",
       "         48: 3,\n",
       "         47: 5,\n",
       "         46: 8,\n",
       "         45: 7,\n",
       "         44: 11,\n",
       "         43: 12,\n",
       "         42: 11,\n",
       "         41: 10,\n",
       "         40: 9,\n",
       "         39: 5,\n",
       "         38: 13,\n",
       "         37: 15,\n",
       "         36: 23,\n",
       "         35: 25,\n",
       "         34: 21,\n",
       "         33: 26,\n",
       "         32: 52,\n",
       "         31: 47,\n",
       "         30: 38,\n",
       "         29: 31,\n",
       "         28: 28,\n",
       "         27: 29,\n",
       "         26: 41,\n",
       "         25: 75,\n",
       "         24: 69,\n",
       "         23: 71,\n",
       "         22: 74,\n",
       "         21: 157,\n",
       "         20: 143})"
      ]
     },
     "execution_count": 51,
     "metadata": {},
     "output_type": "execute_result"
    }
   ],
   "source": [
    "new_counter"
   ]
  },
  {
   "cell_type": "code",
   "execution_count": 52,
   "metadata": {},
   "outputs": [
    {
     "data": {
      "image/png": "[encoded data removed]",
      "text/plain": [
       "<Figure size 432x288 with 1 Axes>"
      ]
     },
     "metadata": {
      "needs_background": "light"
     },
     "output_type": "display_data"
    }
   ],
   "source": [
    "plt.bar(new_keys,new_values, color=['blue'], alpha=0.5)\n",
    "plt.xlabel(\"# of protein members in the cluster\")\n",
    "plt.ylabel(\"# of clusters\")\n",
    "plt.title(\"Frequency of clusters with >20 members\")\n",
    "plt.savefig(\"Histogram.png\")\n"
   ]
  },
  {
   "cell_type": "code",
   "execution_count": 56,
   "metadata": {},
   "outputs": [
    {
     "data": {
      "text/html": [
       "<div>\n",
       "<style scoped>\n",
       "    .dataframe tbody tr th:only-of-type {\n",
       "        vertical-align: middle;\n",
       "    }\n",
       "\n",
       "    .dataframe tbody tr th {\n",
       "        vertical-align: top;\n",
       "    }\n",
       "\n",
       "    .dataframe thead th {\n",
       "        text-align: right;\n",
       "    }\n",
       "</style>\n",
       "<table border=\"1\" class=\"dataframe\">\n",
       "  <thead>\n",
       "    <tr style=\"text-align: right;\">\n",
       "      <th></th>\n",
       "      <th>family</th>\n",
       "      <th>taxonID</th>\n",
       "      <th>sequence</th>\n",
       "    </tr>\n",
       "  </thead>\n",
       "  <tbody>\n",
       "    <tr>\n",
       "      <th>0</th>\n",
       "      <td>1</td>\n",
       "      <td>YP_009237910.1</td>\n",
       "      <td>MPPKRNGIYSKNYFITYPKCSLTKEEALSQLLNIQTPTSKKYIRIC...</td>\n",
       "    </tr>\n",
       "    <tr>\n",
       "      <th>1</th>\n",
       "      <td>1</td>\n",
       "      <td>NP_632018.1</td>\n",
       "      <td>MHPLNKFRINAKNYFLTYPHCSLTKEEALSQIQALQTPTNKLFIRV...</td>\n",
       "    </tr>\n",
       "    <tr>\n",
       "      <th>2</th>\n",
       "      <td>1</td>\n",
       "      <td>YP_009249837.1</td>\n",
       "      <td>MAPPKRFQLNAKHYFLTYPQCSLTKEEALSQLQNLVTPTNKKYIKI...</td>\n",
       "    </tr>\n",
       "    <tr>\n",
       "      <th>3</th>\n",
       "      <td>1</td>\n",
       "      <td>NP_620424.1</td>\n",
       "      <td>MAPPNKFRINAKNYFLTYPHCSLTKEEALSQIKALETPINKLFIRI...</td>\n",
       "    </tr>\n",
       "    <tr>\n",
       "      <th>4</th>\n",
       "      <td>1</td>\n",
       "      <td>YP_001285874.1</td>\n",
       "      <td>MPQPKKFFINAKNYFLTYPQCSLTKEEALSQISALSTPTNKLFIRI...</td>\n",
       "    </tr>\n",
       "    <tr>\n",
       "      <th>...</th>\n",
       "      <td>...</td>\n",
       "      <td>...</td>\n",
       "      <td>...</td>\n",
       "    </tr>\n",
       "    <tr>\n",
       "      <th>1102214</th>\n",
       "      <td>1187</td>\n",
       "      <td>3300001842</td>\n",
       "      <td>FGHTAVVFDANPENVALLAKEGATASKSLAHLVEQMPKPRAVWVML...</td>\n",
       "    </tr>\n",
       "    <tr>\n",
       "      <th>1102215</th>\n",
       "      <td>1187</td>\n",
       "      <td>YP_009302029.1</td>\n",
       "      <td>MAKVKYGNWELVKELEEFEKETIRWAKKGIAKTTTIIHNSIVSNMP...</td>\n",
       "    </tr>\n",
       "    <tr>\n",
       "      <th>1102216</th>\n",
       "      <td>1187</td>\n",
       "      <td>YP_006560952.1</td>\n",
       "      <td>MAKVKYGNWDLVKELEEFEKETIRWAKKGIAKTTTIIHNSIVSNMP...</td>\n",
       "    </tr>\n",
       "    <tr>\n",
       "      <th>1102217</th>\n",
       "      <td>1187</td>\n",
       "      <td>3300012525</td>\n",
       "      <td>MQMYNQEYLQEKWAPLLNYEGLDPIKDSHRRMVTAVLLENQEKALR...</td>\n",
       "    </tr>\n",
       "    <tr>\n",
       "      <th>1102218</th>\n",
       "      <td>1187</td>\n",
       "      <td>3300005336</td>\n",
       "      <td>HYVDAGTSGGVWGLERGFCQMIGGEPDIVQHLDPLFATLAPSVDSA...</td>\n",
       "    </tr>\n",
       "  </tbody>\n",
       "</table>\n",
       "<p>1102219 rows × 3 columns</p>\n",
       "</div>"
      ],
      "text/plain": [
       "         family         taxonID  \\\n",
       "0             1  YP_009237910.1   \n",
       "1             1     NP_632018.1   \n",
       "2             1  YP_009249837.1   \n",
       "3             1     NP_620424.1   \n",
       "4             1  YP_001285874.1   \n",
       "...         ...             ...   \n",
       "1102214    1187      3300001842   \n",
       "1102215    1187  YP_009302029.1   \n",
       "1102216    1187  YP_006560952.1   \n",
       "1102217    1187      3300012525   \n",
       "1102218    1187      3300005336   \n",
       "\n",
       "                                                  sequence  \n",
       "0        MPPKRNGIYSKNYFITYPKCSLTKEEALSQLLNIQTPTSKKYIRIC...  \n",
       "1        MHPLNKFRINAKNYFLTYPHCSLTKEEALSQIQALQTPTNKLFIRV...  \n",
       "2        MAPPKRFQLNAKHYFLTYPQCSLTKEEALSQLQNLVTPTNKKYIKI...  \n",
       "3        MAPPNKFRINAKNYFLTYPHCSLTKEEALSQIKALETPINKLFIRI...  \n",
       "4        MPQPKKFFINAKNYFLTYPQCSLTKEEALSQISALSTPTNKLFIRI...  \n",
       "...                                                    ...  \n",
       "1102214  FGHTAVVFDANPENVALLAKEGATASKSLAHLVEQMPKPRAVWVML...  \n",
       "1102215  MAKVKYGNWELVKELEEFEKETIRWAKKGIAKTTTIIHNSIVSNMP...  \n",
       "1102216  MAKVKYGNWDLVKELEEFEKETIRWAKKGIAKTTTIIHNSIVSNMP...  \n",
       "1102217  MQMYNQEYLQEKWAPLLNYEGLDPIKDSHRRMVTAVLLENQEKALR...  \n",
       "1102218  HYVDAGTSGGVWGLERGFCQMIGGEPDIVQHLDPLFATLAPSVDSA...  \n",
       "\n",
       "[1102219 rows x 3 columns]"
      ]
     },
     "execution_count": 56,
     "metadata": {},
     "output_type": "execute_result"
    }
   ],
   "source": [
    "import pandas as pd\n",
    "## DO the same thing for the cluster families that have been enriched\n",
    "viral_enriched=pd.read_csv(\"viral_enrich.csv\",sep=\"\\t\",header=0)\n",
    "#viral_enriched=viral_enriched.rename(columns={0: 'clusters',1: 'protein_id',3:'sequence'})\n",
    "viral_enriched"
   ]
  },
  {
   "cell_type": "code",
   "execution_count": 57,
   "metadata": {},
   "outputs": [],
   "source": [
    "from collections import Counter\n",
    "clusters=viral_enriched['family'].tolist()\n",
    "counter=Counter(clusters)\n"
   ]
  },
  {
   "cell_type": "code",
   "execution_count": 58,
   "metadata": {},
   "outputs": [
    {
     "name": "stdout",
     "output_type": "stream",
     "text": [
      "1188\n"
     ]
    }
   ],
   "source": [
    "#find the number of clusters with >20 members\n",
    "i=0\n",
    "for i in counter.keys():\n",
    "    i+=1\n",
    "print(i)\n"
   ]
  },
  {
   "cell_type": "code",
   "execution_count": 70,
   "metadata": {},
   "outputs": [],
   "source": [
    "values_=counter.values()\n",
    "new_counter_=Counter(values_)\n",
    "new_keys_=new_counter.keys()\n",
    "new_values_=new_counter.values()"
   ]
  },
  {
   "cell_type": "code",
   "execution_count": 71,
   "metadata": {},
   "outputs": [
    {
     "data": {
      "text/plain": [
       "dict_values([297, 193, 170, 167, 127, 120, 120, 107, 109, 141, 98, 100, 89, 95, 92, 87, 104, 100, 82, 82, 36004, 83, 79, 73, 72, 78, 70, 325, 209, 206, 183, 208, 221, 204, 210, 204, 191, 212, 188, 422, 136, 69, 209, 183, 213, 201, 181, 177, 175, 110, 196, 182, 171, 67, 3074, 181, 68, 65, 109, 11057, 14988, 169, 139, 71, 64, 78, 72, 18350, 1134, 63, 60, 16633, 84, 59, 65, 63, 65, 61, 156, 171, 59, 59, 58, 57, 144, 72, 61, 78, 208, 75, 56, 99, 64, 57, 73, 180, 56, 28214, 5512, 158, 54, 53, 8051, 91, 55, 53, 130, 9213, 75, 169, 123, 84, 147, 19277, 51, 53, 50, 72, 115, 50, 50, 130, 88, 50, 50, 706, 49, 49, 60, 58, 139, 105, 185, 11440, 47, 47, 3655, 21868, 49, 51, 51, 50, 84, 46, 45, 147, 49, 51, 48, 45, 55, 89, 89, 85, 47, 2210, 45, 5174, 49, 50, 44, 48, 83, 79, 43, 29308, 43, 43, 219, 46, 48, 585, 47, 53, 54, 4253, 13748, 45, 45, 43, 48, 55, 83, 98, 48, 178, 42, 41, 42, 47, 152, 77, 78, 41, 53, 63, 41, 40, 40, 42, 42, 42, 43, 69, 59, 39, 39, 41, 335, 38, 3476, 24408, 156, 143, 41, 42, 48, 68, 45, 44, 41, 88, 51, 37, 37, 37, 39, 54, 284, 43, 64, 41, 42, 45, 143, 38, 85, 40, 39, 1313, 40, 24510, 36, 36, 36, 39, 36, 36, 442, 37, 52, 37, 58, 36, 36, 36, 36, 37, 61, 49, 2695, 601, 5307, 9039, 35, 35, 35, 35, 35, 130, 253, 39, 35, 41, 45, 43, 36, 63, 101, 35, 35, 83, 138, 36, 35, 34, 809, 18426, 25237, 34, 33904, 36, 34, 114, 289, 44, 46, 152, 34, 43, 73, 37, 552, 43, 35, 34, 33, 38, 2440, 4847, 16406, 18964, 981, 33, 33, 38, 38, 33, 34, 33, 46, 1705, 35, 40, 40, 83, 35, 34, 33, 1012, 438, 33, 40, 11990, 353, 12309, 18667, 7031, 263, 36, 35, 32, 32, 32, 32, 82, 32, 32, 34, 36, 46, 425, 32, 42, 40, 41, 43, 40, 59, 32, 44, 32, 33, 32, 93, 43, 33, 35, 43, 33, 36, 35, 36, 34, 899, 35, 32, 32, 32, 32, 34, 33, 33, 47, 31, 163, 36, 31, 2904, 18477, 1437, 4123, 21646, 7758, 18951, 5203, 5080, 25005, 31, 149, 121, 34, 41, 31, 32, 35, 31, 123, 40, 31, 34, 31, 41, 39, 32, 33, 33, 34, 34, 33, 34, 33, 31, 45, 152, 90, 31, 32, 36, 297, 99, 50, 48, 54, 536, 516, 12452, 465, 34, 30, 30, 31, 31, 31, 30, 165, 39, 35, 37, 32, 35, 40, 34, 37, 39, 30, 30, 32, 3037, 32, 32, 31, 65, 72, 30, 31, 31, 39, 67, 94, 32, 29, 14411, 5825, 27371, 331, 236, 4149, 29, 30, 38, 31, 34, 36, 41, 291, 31, 29, 29, 32, 30, 31, 35, 31, 29, 29, 70, 51, 29, 29, 425, 764, 290, 401, 368, 28, 30, 33, 32, 148, 52, 75, 29, 33, 31, 32, 62, 28, 152, 30, 31, 144, 29, 119, 84, 59, 1642, 64, 102, 381, 173, 171, 27, 29, 31, 27, 27, 471, 27, 29, 38, 1292, 45, 31, 1033, 27, 27, 27, 27, 37, 29, 27, 31, 27, 27, 28, 27, 1228, 4286, 712, 1085, 26, 26, 26, 28, 38, 26, 26, 47, 27, 70, 49, 29, 30, 35, 32, 26, 27, 26, 32, 76, 41, 124, 26, 29, 28, 28, 40, 359, 281, 29, 30, 26, 29, 28, 258, 41, 899, 57, 31, 39, 11211, 252, 25, 25, 25, 25, 25, 115, 479, 27, 26, 25, 25, 27, 46, 26, 25, 25, 27, 26, 25, 25, 26, 26, 27, 25, 25, 26, 26, 27, 7419, 9884, 27, 26, 57831, 31, 27, 40, 28, 33, 122, 45, 28, 30, 27, 25, 37, 38, 88, 25, 26, 31, 26, 51, 25, 25, 27, 43, 25, 239, 68, 25, 25, 28, 42, 25, 25, 25, 25, 25, 25, 219, 26, 1798, 200, 297, 315, 229, 188, 1938, 2856, 24, 24, 24, 24, 114, 24, 24, 24, 24, 25, 24, 24, 34, 7689, 27, 25, 25, 25, 24, 40, 290, 28, 61, 54, 54, 25, 37, 29, 30, 53, 404, 24, 29, 32, 36, 838, 36, 484, 8752, 35, 26, 25, 24, 25, 24, 24, 59, 26, 66, 204, 68, 24, 24, 423, 24, 28, 118, 24, 25, 26, 38, 7185, 4621, 23, 8278, 23, 23, 23, 23, 23, 23, 24, 163, 1801, 30, 23, 7404, 1883, 23, 29, 36, 39, 25, 23, 49, 47, 23, 23, 23, 23, 23, 43133, 24, 24, 25, 23, 24, 71, 30, 23, 24, 56, 23, 24, 26, 300, 36, 24, 87, 73, 51, 25, 44, 4976, 24, 61, 24, 434, 54, 43, 40, 101, 23, 55, 23, 82, 262, 42, 27, 798, 72, 1277, 30223, 3017, 4890, 22, 737, 22, 22, 22, 22, 22, 22, 25, 27, 40, 23, 28, 31, 24, 48, 28, 28, 24, 1023, 549, 628, 214, 1013, 23, 34, 38, 73, 33, 24, 42, 1226, 58, 79, 51, 24, 22, 855, 29, 32, 33, 22, 42, 22, 22, 265, 23, 41, 22, 22, 24, 28, 26, 22, 23, 26, 65, 22, 69, 24, 151, 28, 22, 34, 22, 24, 73, 22, 25, 131, 21, 24, 41, 22, 2814, 12075, 4244, 2360, 141, 3800, 21, 38, 21, 21, 21, 111, 22, 25, 3188, 23, 22, 21, 21, 69, 53, 21, 181, 25, 23, 27, 29, 25, 56, 22, 37, 35, 32, 74, 51, 28, 26, 30, 29, 39, 26, 26, 26, 23, 23, 23, 1541, 94, 21, 24, 33, 29, 21, 25, 21, 21, 21, 21, 24, 23, 24, 21, 22, 21, 28, 21, 29, 21, 23, 21, 31, 29, 23, 24, 34, 40, 25, 828, 23, 24, 27, 25, 4180, 70, 23, 22, 24199, 163, 21, 3676, 104, 22, 23, 21, 21, 160, 21, 21, 27, 22, 21, 57, 21, 21, 31, 28, 23, 30, 27, 24, 26, 22, 22, 40, 21, 26, 66, 22, 22, 21, 21, 23, 28, 21, 21, 44, 21, 25, 24, 21, 21, 27, 35, 29, 22, 22, 25, 107, 21, 22, 1750, 47, 42, 1182, 25, 22, 84, 24, 88, 47, 42, 30, 57, 13594, 22, 1772, 372, 254, 21, 34, 20, 20, 41, 20, 20, 30, 28, 115, 21, 25, 25, 20, 22, 58, 45, 22, 21, 23, 21, 36, 24, 21, 45, 23, 22, 33, 95, 22, 37, 22, 36, 20, 23, 31, 22, 1785, 20, 20, 29, 31, 20, 80, 40, 21, 22, 22, 68, 29, 29, 21, 1393, 39, 5502, 20, 20, 20, 20, 20, 20, 20, 20, 29, 22, 23, 20, 20, 28, 644, 53, 604, 56, 26, 35, 41, 79, 33, 22, 22, 20, 30, 21, 20, 20, 24, 523, 20, 26, 20, 20, 20, 2119, 31, 31, 32, 24, 22, 32, 22, 20, 20, 21, 20, 251, 196, 49, 20, 33, 20, 80, 52, 21, 20, 23, 4023, 363, 89, 43, 37, 45, 20, 22, 25, 20, 20, 20, 21, 20, 21, 24, 131, 20, 25, 26, 22, 40, 77])"
      ]
     },
     "execution_count": 71,
     "metadata": {},
     "output_type": "execute_result"
    }
   ],
   "source": [
    "values_"
   ]
  },
  {
   "cell_type": "code",
   "execution_count": 89,
   "metadata": {},
   "outputs": [
    {
     "data": {
      "text/plain": [
       "1"
      ]
     },
     "execution_count": 89,
     "metadata": {},
     "output_type": "execute_result"
    }
   ],
   "source": [
    "new_counter_[57831]"
   ]
  },
  {
   "cell_type": "code",
   "execution_count": 88,
   "metadata": {},
   "outputs": [
    {
     "data": {
      "text/plain": [
       "57831"
      ]
     },
     "execution_count": 88,
     "metadata": {},
     "output_type": "execute_result"
    }
   ],
   "source": [
    "#the maximum number of protein members in an enriched cluster\n",
    "max(new_keys_)\n"
   ]
  },
  {
   "cell_type": "code",
   "execution_count": 86,
   "metadata": {},
   "outputs": [
    {
     "data": {
      "image/png": "[encoded data removed]",
      "text/plain": [
       "<Figure size 432x288 with 1 Axes>"
      ]
     },
     "metadata": {
      "needs_background": "light"
     },
     "output_type": "display_data"
    }
   ],
   "source": [
    "from matplotlib import pyplot as plt\n",
    "\n",
    "plt.bar(new_keys_,new_values_, color=['blue'])\n",
    "plt.xlabel(\"# of protein members in the cluster\")\n",
    "plt.ylabel(\"# of clusters\")\n",
    "plt.xlim((0,300))\n",
    "plt.title(\"Frequency of clusters with >20 members enriched\")\n",
    "plt.savefig(\"Histogram2.png\")"
   ]
  },
  {
   "cell_type": "code",
   "execution_count": null,
   "metadata": {},
   "outputs": [],
   "source": []
  }
 ],
 "metadata": {
  "kernelspec": {
   "display_name": "Python 3",
   "language": "python",
   "name": "python3"
  },
  "language_info": {
   "codemirror_mode": {
    "name": "ipython",
    "version": 3
   },
   "file_extension": ".py",
   "mimetype": "text/x-python",
   "name": "python",
   "nbconvert_exporter": "python",
   "pygments_lexer": "ipython3",
   "version": "3.7.7"
  }
 },
 "nbformat": 4,
 "nbformat_minor": 4
}
